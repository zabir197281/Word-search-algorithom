{
 "cells": [
  {
   "cell_type": "code",
   "execution_count": 14,
   "id": "50eeeaf6",
   "metadata": {},
   "outputs": [],
   "source": [
    "import random\n",
    "import numpy as np"
   ]
  },
  {
   "cell_type": "code",
   "execution_count": 67,
   "id": "cd075dba",
   "metadata": {},
   "outputs": [],
   "source": [
    "vocabulary_file='word_embeddings.txt'"
   ]
  },
  {
   "cell_type": "code",
   "execution_count": 68,
   "id": "7a83583d",
   "metadata": {},
   "outputs": [
    {
     "name": "stdout",
     "output_type": "stream",
     "text": [
      "Read words...\n"
     ]
    }
   ],
   "source": [
    "print('Read words...')\n",
    "with open(vocabulary_file,'r',encoding=\"utf8\") as f:\n",
    "    words = [x.rstrip().split(' ')[0] for x in f.readlines()]"
   ]
  },
  {
   "cell_type": "code",
   "execution_count": 69,
   "id": "4ca64114",
   "metadata": {},
   "outputs": [
    {
     "name": "stdout",
     "output_type": "stream",
     "text": [
      "Read word vectors...\n"
     ]
    }
   ],
   "source": [
    "print('Read word vectors...')\n",
    "with open(vocabulary_file, 'r',encoding=\"utf8\") as f:\n",
    "    vectors = {}\n",
    "    for line in f:\n",
    "        vals = line.rstrip().split(' ')\n",
    "        vectors[vals[0]] = [float(x) for x in vals[1:]]"
   ]
  },
  {
   "cell_type": "markdown",
   "id": "e0d5f99e",
   "metadata": {},
   "source": [
    "# Just for checking the first 10 values for  vectors dictionary"
   ]
  },
  {
   "cell_type": "code",
   "execution_count": 70,
   "id": "beca4a8f",
   "metadata": {},
   "outputs": [
    {
     "name": "stdout",
     "output_type": "stream",
     "text": [
      "the -> [0.418, 0.24968, -0.41242, 0.1217, 0.34527, -0.044457, -0.49688, -0.17862, -0.00066023, -0.6566, 0.27843, -0.14767, -0.55677, 0.14658, -0.0095095, 0.011658, 0.10204, -0.12792, -0.8443, -0.12181, -0.016801, -0.33279, -0.1552, -0.23131, -0.19181, -1.8823, -0.76746, 0.099051, -0.42125, -0.19526, 4.0071, -0.18594, -0.52287, -0.31681, 0.00059213, 0.0074449, 0.17778, -0.15897, 0.012041, -0.054223, -0.29871, -0.15749, -0.34758, -0.045637, -0.44251, 0.18785, 0.0027849, -0.18411, -0.11514, -0.78581]\n",
      ", -> [0.013441, 0.23682, -0.16899, 0.40951, 0.63812, 0.47709, -0.42852, -0.55641, -0.364, -0.23938, 0.13001, -0.063734, -0.39575, -0.48162, 0.23291, 0.090201, -0.13324, 0.078639, -0.41634, -0.15428, 0.10068, 0.48891, 0.31226, -0.1252, -0.037512, -1.5179, 0.12612, -0.02442, -0.042961, -0.28351, 3.5416, -0.11956, -0.014533, -0.1499, 0.21864, -0.33412, -0.13872, 0.31806, 0.70358, 0.44858, -0.080262, 0.63003, 0.32111, -0.46765, 0.22786, 0.36034, -0.37818, -0.56657, 0.044691, 0.30392]\n",
      ". -> [0.15164, 0.30177, -0.16763, 0.17684, 0.31719, 0.33973, -0.43478, -0.31086, -0.44999, -0.29486, 0.16608, 0.11963, -0.41328, -0.42353, 0.59868, 0.28825, -0.11547, -0.041848, -0.67989, -0.25063, 0.18472, 0.086876, 0.46582, 0.015035, 0.043474, -1.4671, -0.30384, -0.023441, 0.30589, -0.21785, 3.746, 0.0042284, -0.18436, -0.46209, 0.098329, -0.11907, 0.23919, 0.1161, 0.41705, 0.056763, -6.3681e-05, 0.068987, 0.087939, -0.10285, -0.13931, 0.22314, -0.080803, -0.35652, 0.016413, 0.10216]\n",
      "of -> [0.70853, 0.57088, -0.4716, 0.18048, 0.54449, 0.72603, 0.18157, -0.52393, 0.10381, -0.17566, 0.078852, -0.36216, -0.11829, -0.83336, 0.11917, -0.16605, 0.061555, -0.012719, -0.56623, 0.013616, 0.22851, -0.14396, -0.067549, -0.38157, -0.23698, -1.7037, -0.86692, -0.26704, -0.2589, 0.1767, 3.8676, -0.1613, -0.13273, -0.68881, 0.18444, 0.0052464, -0.33874, -0.078956, 0.24185, 0.36576, -0.34727, 0.28483, 0.075693, -0.062178, -0.38988, 0.22902, -0.21617, -0.22562, -0.093918, -0.80375]\n",
      "to -> [0.68047, -0.039263, 0.30186, -0.17792, 0.42962, 0.032246, -0.41376, 0.13228, -0.29847, -0.085253, 0.17118, 0.22419, -0.10046, -0.43653, 0.33418, 0.67846, 0.057204, -0.34448, -0.42785, -0.43275, 0.55963, 0.10032, 0.18677, -0.26854, 0.037334, -2.0932, 0.22171, -0.39868, 0.20912, -0.55725, 3.8826, 0.47466, -0.95658, -0.37788, 0.20869, -0.32752, 0.12751, 0.088359, 0.16351, -0.21634, -0.094375, 0.018324, 0.21048, -0.03088, -0.19722, 0.082279, -0.09434, -0.073297, -0.064699, -0.26044]\n",
      "and -> [0.26818, 0.14346, -0.27877, 0.016257, 0.11384, 0.69923, -0.51332, -0.47368, -0.33075, -0.13834, 0.2702, 0.30938, -0.45012, -0.4127, -0.09932, 0.038085, 0.029749, 0.10076, -0.25058, -0.51818, 0.34558, 0.44922, 0.48791, -0.080866, -0.10121, -1.3777, -0.10866, -0.23201, 0.012839, -0.46508, 3.8463, 0.31362, 0.13643, -0.52244, 0.3302, 0.33707, -0.35601, 0.32431, 0.12041, 0.3512, -0.069043, 0.36885, 0.25168, -0.24517, 0.25381, 0.1367, -0.31178, -0.6321, -0.25028, -0.38097]\n",
      "in -> [0.33042, 0.24995, -0.60874, 0.10923, 0.036372, 0.151, -0.55083, -0.074239, -0.092307, -0.32821, 0.09598, -0.82269, -0.36717, -0.67009, 0.42909, 0.016496, -0.23573, 0.12864, -1.0953, 0.43334, 0.57067, -0.1036, 0.20422, 0.078308, -0.42795, -1.7984, -0.27865, 0.11954, -0.12689, 0.031744, 3.8631, -0.17786, -0.082434, -0.62698, 0.26497, -0.057185, -0.073521, 0.46103, 0.30862, 0.12498, -0.48609, -0.0080272, 0.031184, -0.36576, -0.42699, 0.42164, -0.11666, -0.50703, -0.027273, -0.53285]\n",
      "a -> [0.21705, 0.46515, -0.46757, 0.10082, 1.0135, 0.74845, -0.53104, -0.26256, 0.16812, 0.13182, -0.24909, -0.44185, -0.21739, 0.51004, 0.13448, -0.43141, -0.03123, 0.20674, -0.78138, -0.20148, -0.097401, 0.16088, -0.61836, -0.18504, -0.12461, -2.2526, -0.22321, 0.5043, 0.32257, 0.15313, 3.9636, -0.71365, -0.67012, 0.28388, 0.21738, 0.14433, 0.25926, 0.23434, 0.4274, -0.44451, 0.13813, 0.36973, -0.64289, 0.024142, -0.039315, -0.26037, 0.12017, -0.043782, 0.41013, 0.1796]\n",
      "\" -> [0.25769, 0.45629, -0.76974, -0.37679, 0.59272, -0.063527, 0.20545, -0.57385, -0.29009, -0.13662, 0.32728, 1.4719, -0.73681, -0.12036, 0.71354, -0.46098, 0.65248, 0.48887, -0.51558, 0.039951, -0.34307, -0.014087, 0.86488, 0.3546, 0.7999, -1.4995, -1.8153, 0.41128, 0.23921, -0.43139, 3.6623, -0.79834, -0.54538, 0.16943, -0.82017, -0.3461, 0.69495, -1.2256, -0.17992, -0.057474, 0.030498, -0.39543, -0.38515, -1.0002, 0.087599, -0.31009, -0.34677, -0.31438, 0.75004, 0.97065]\n",
      "'s -> [0.23727, 0.40478, -0.20547, 0.58805, 0.65533, 0.32867, -0.81964, -0.23236, 0.27428, 0.24265, 0.054992, 0.16296, -1.2555, -0.086437, 0.44536, 0.096561, -0.16519, 0.058378, -0.38598, 0.086977, 0.0033869, 0.55095, -0.77697, -0.62096, 0.092948, -2.5685, -0.67739, 0.10151, -0.48643, -0.057805, 3.1859, -0.017554, -0.16138, 0.055486, -0.25885, -0.33938, -0.19928, 0.26049, 0.10478, -0.55934, -0.12342, 0.65961, -0.51802, -0.82995, -0.082739, 0.28155, -0.423, -0.27378, -0.007901, -0.030231]\n"
     ]
    }
   ],
   "source": [
    "count_1=0\n",
    "for key, value in vectors.items():\n",
    "    print(key,\"->\",value)\n",
    "    count_1=count_1+1\n",
    "    if count_1==10:\n",
    "        break\n",
    "    "
   ]
  },
  {
   "cell_type": "code",
   "execution_count": 71,
   "id": "17f7bb72",
   "metadata": {},
   "outputs": [],
   "source": [
    "vocab_size = len(words)\n",
    "vocab = {w: idx for idx, w in enumerate(words)}\n",
    "ivocab = {idx: w for idx, w in enumerate(words)}\n"
   ]
  },
  {
   "cell_type": "markdown",
   "id": "c24f7c21",
   "metadata": {},
   "source": [
    "# Just for checking the first 10 values for vocab and ivocab dictionary"
   ]
  },
  {
   "cell_type": "code",
   "execution_count": 72,
   "id": "18d720ed",
   "metadata": {},
   "outputs": [
    {
     "name": "stdout",
     "output_type": "stream",
     "text": [
      "the -> 0\n",
      ", -> 1\n",
      ". -> 2\n",
      "of -> 3\n",
      "to -> 4\n",
      "and -> 5\n",
      "in -> 6\n",
      "a -> 7\n",
      "\" -> 8\n",
      "'s -> 9\n"
     ]
    }
   ],
   "source": [
    "count_2=0\n",
    "for key, value in vocab.items():\n",
    "    print(key,\"->\",value)\n",
    "    count_2=count_2+1\n",
    "    if count_2==10:\n",
    "        break"
   ]
  },
  {
   "cell_type": "code",
   "execution_count": 73,
   "id": "9601b2e3",
   "metadata": {},
   "outputs": [
    {
     "name": "stdout",
     "output_type": "stream",
     "text": [
      "0 -> the\n",
      "1 -> ,\n",
      "2 -> .\n",
      "3 -> of\n",
      "4 -> to\n",
      "5 -> and\n",
      "6 -> in\n",
      "7 -> a\n",
      "8 -> \"\n",
      "9 -> 's\n"
     ]
    }
   ],
   "source": [
    "count_2=0\n",
    "for key, value in ivocab.items():\n",
    "    print(key,\"->\",value)\n",
    "    count_2=count_2+1\n",
    "    if count_2==10:\n",
    "        break"
   ]
  },
  {
   "cell_type": "code",
   "execution_count": 74,
   "id": "e72f0187",
   "metadata": {},
   "outputs": [
    {
     "name": "stdout",
     "output_type": "stream",
     "text": [
      "Vocabulary size:\n",
      "400000\n",
      "300\n",
      "400000\n",
      "for\n"
     ]
    }
   ],
   "source": [
    "print('Vocabulary size:')\n",
    "print(len(vocab))\n",
    "print(vocab['man'])\n",
    "print(len(ivocab))\n",
    "print(ivocab[10])"
   ]
  },
  {
   "cell_type": "code",
   "execution_count": 75,
   "id": "5ffc5afa",
   "metadata": {},
   "outputs": [
    {
     "name": "stdout",
     "output_type": "stream",
     "text": [
      "Vocabulary word vectors :\n",
      "50\n"
     ]
    }
   ],
   "source": [
    "# W contains vectors for\n",
    "\n",
    "print('Vocabulary word vectors :')\n",
    "vector_dim = len(vectors[ivocab[0]])\n",
    "print(vector_dim)"
   ]
  },
  {
   "cell_type": "code",
   "execution_count": 76,
   "id": "3ab56d72",
   "metadata": {},
   "outputs": [
    {
     "name": "stdout",
     "output_type": "stream",
     "text": [
      "vocab_size=  400000\n",
      "vector_dim=  50\n"
     ]
    }
   ],
   "source": [
    "print(\"vocab_size= \",vocab_size)\n",
    "print(\"vector_dim= \",vector_dim)"
   ]
  },
  {
   "cell_type": "code",
   "execution_count": 77,
   "id": "8dfb77c8",
   "metadata": {},
   "outputs": [],
   "source": [
    "W = np.zeros((vocab_size, vector_dim))"
   ]
  },
  {
   "cell_type": "code",
   "execution_count": 78,
   "id": "da0581f2",
   "metadata": {},
   "outputs": [
    {
     "name": "stdout",
     "output_type": "stream",
     "text": [
      "[[0. 0. 0. ... 0. 0. 0.]\n",
      " [0. 0. 0. ... 0. 0. 0.]\n",
      " [0. 0. 0. ... 0. 0. 0.]\n",
      " ...\n",
      " [0. 0. 0. ... 0. 0. 0.]\n",
      " [0. 0. 0. ... 0. 0. 0.]\n",
      " [0. 0. 0. ... 0. 0. 0.]]\n"
     ]
    }
   ],
   "source": [
    "print(W)"
   ]
  },
  {
   "cell_type": "code",
   "execution_count": null,
   "id": "42213ddb",
   "metadata": {},
   "outputs": [],
   "source": []
  },
  {
   "cell_type": "code",
   "execution_count": 79,
   "id": "0fdf3d86",
   "metadata": {},
   "outputs": [
    {
     "name": "stdout",
     "output_type": "stream",
     "text": [
      "(400000, 50)\n"
     ]
    }
   ],
   "source": [
    "for word, v in vectors.items():\n",
    "    if word == '<unk>':\n",
    "        continue\n",
    "    W[vocab[word], :] = v\n",
    "print(W.shape)"
   ]
  },
  {
   "cell_type": "code",
   "execution_count": 80,
   "id": "306db80e",
   "metadata": {},
   "outputs": [
    {
     "name": "stdout",
     "output_type": "stream",
     "text": [
      "[[ 0.418     0.24968  -0.41242  ... -0.18411  -0.11514  -0.78581 ]\n",
      " [ 0.013441  0.23682  -0.16899  ... -0.56657   0.044691  0.30392 ]\n",
      " [ 0.15164   0.30177  -0.16763  ... -0.35652   0.016413  0.10216 ]\n",
      " ...\n",
      " [-0.51181   0.058706  1.0913   ... -0.25003  -1.125     1.5863  ]\n",
      " [-0.75898  -0.47426   0.4737   ...  0.78954  -0.014116  0.6448  ]\n",
      " [ 0.072617 -0.51393   0.4728   ... -0.18907  -0.59021   0.55559 ]]\n"
     ]
    }
   ],
   "source": [
    "print(W)"
   ]
  },
  {
   "cell_type": "code",
   "execution_count": 81,
   "id": "b4604d17",
   "metadata": {},
   "outputs": [
    {
     "name": "stdout",
     "output_type": "stream",
     "text": [
      "\n",
      "Enter three words (EXIT to break): king\n",
      "king\n"
     ]
    }
   ],
   "source": [
    "#Need to do this on in a while loop\n",
    "\n",
    "input_term = input(\"\\nEnter three words (EXIT to break): \")\n",
    "\n",
    "input_term=input_term.lower()\n",
    "print(input_term)      "
   ]
  },
  {
   "cell_type": "code",
   "execution_count": 82,
   "id": "9996e8d3",
   "metadata": {},
   "outputs": [
    {
     "data": {
      "text/plain": [
       "[0.50451,\n",
       " 0.68607,\n",
       " -0.59517,\n",
       " -0.022801,\n",
       " 0.60046,\n",
       " -0.13498,\n",
       " -0.08813,\n",
       " 0.47377,\n",
       " -0.61798,\n",
       " -0.31012,\n",
       " -0.076666,\n",
       " 1.493,\n",
       " -0.034189,\n",
       " -0.98173,\n",
       " 0.68229,\n",
       " 0.81722,\n",
       " -0.51874,\n",
       " -0.31503,\n",
       " -0.55809,\n",
       " 0.66421,\n",
       " 0.1961,\n",
       " -0.13495,\n",
       " -0.11476,\n",
       " -0.30344,\n",
       " 0.41177,\n",
       " -2.223,\n",
       " -1.0756,\n",
       " -1.0783,\n",
       " -0.34354,\n",
       " 0.33505,\n",
       " 1.9927,\n",
       " -0.04234,\n",
       " -0.64319,\n",
       " 0.71125,\n",
       " 0.49159,\n",
       " 0.16754,\n",
       " 0.34344,\n",
       " -0.25663,\n",
       " -0.8523,\n",
       " 0.1661,\n",
       " 0.40102,\n",
       " 1.1685,\n",
       " -1.0137,\n",
       " -0.21585,\n",
       " -0.15155,\n",
       " 0.78321,\n",
       " -0.91241,\n",
       " -1.6106,\n",
       " -0.64426,\n",
       " -0.51042]"
      ]
     },
     "execution_count": 82,
     "metadata": {},
     "output_type": "execute_result"
    }
   ],
   "source": [
    "vectors[input_term]"
   ]
  },
  {
   "cell_type": "code",
   "execution_count": 83,
   "id": "f930ab12",
   "metadata": {},
   "outputs": [],
   "source": [
    "subtractable_input_term=np.tile(vectors[input_term],(400000,1))"
   ]
  },
  {
   "cell_type": "code",
   "execution_count": 84,
   "id": "f271a033",
   "metadata": {},
   "outputs": [
    {
     "name": "stdout",
     "output_type": "stream",
     "text": [
      "400000\n"
     ]
    }
   ],
   "source": [
    "print(len(subtractable_input_term))"
   ]
  },
  {
   "cell_type": "code",
   "execution_count": 85,
   "id": "4539cd0d",
   "metadata": {},
   "outputs": [
    {
     "name": "stdout",
     "output_type": "stream",
     "text": [
      "[[ 0.50451  0.68607 -0.59517 ... -1.6106  -0.64426 -0.51042]\n",
      " [ 0.50451  0.68607 -0.59517 ... -1.6106  -0.64426 -0.51042]\n",
      " [ 0.50451  0.68607 -0.59517 ... -1.6106  -0.64426 -0.51042]\n",
      " ...\n",
      " [ 0.50451  0.68607 -0.59517 ... -1.6106  -0.64426 -0.51042]\n",
      " [ 0.50451  0.68607 -0.59517 ... -1.6106  -0.64426 -0.51042]\n",
      " [ 0.50451  0.68607 -0.59517 ... -1.6106  -0.64426 -0.51042]]\n"
     ]
    }
   ],
   "source": [
    "print(subtractable_input_term)"
   ]
  },
  {
   "cell_type": "code",
   "execution_count": 86,
   "id": "dab83e9b",
   "metadata": {},
   "outputs": [],
   "source": [
    "subtracted_array=W-subtractable_input_term"
   ]
  },
  {
   "cell_type": "code",
   "execution_count": 87,
   "id": "baeb34bc",
   "metadata": {},
   "outputs": [
    {
     "name": "stdout",
     "output_type": "stream",
     "text": [
      "[[-0.08651  -0.43639   0.18275  ...  1.42649   0.52912  -0.27539 ]\n",
      " [-0.491069 -0.44925   0.42618  ...  1.04403   0.688951  0.81434 ]\n",
      " [-0.35287  -0.3843    0.42754  ...  1.25408   0.660673  0.61258 ]\n",
      " ...\n",
      " [-1.01632  -0.627364  1.68647  ...  1.36057  -0.48074   2.09672 ]\n",
      " [-1.26349  -1.16033   1.06887  ...  2.40014   0.630144  1.15522 ]\n",
      " [-0.431893 -1.2       1.06797  ...  1.42153   0.05405   1.06601 ]]\n"
     ]
    }
   ],
   "source": [
    "print(subtracted_array)"
   ]
  },
  {
   "cell_type": "code",
   "execution_count": 88,
   "id": "fbd1e5b6",
   "metadata": {},
   "outputs": [],
   "source": [
    "\n",
    "squared_subtracted_array = np.square(subtracted_array)"
   ]
  },
  {
   "cell_type": "code",
   "execution_count": 89,
   "id": "bcbd0361",
   "metadata": {},
   "outputs": [
    {
     "name": "stdout",
     "output_type": "stream",
     "text": [
      "[[7.48398010e-03 1.90436232e-01 3.33975625e-02 ... 2.03487372e+00\n",
      "  2.79967974e-01 7.58396521e-02]\n",
      " [2.41148763e-01 2.01825562e-01 1.81629392e-01 ... 1.08999864e+00\n",
      "  4.74653480e-01 6.63149636e-01]\n",
      " [1.24517237e-01 1.47686490e-01 1.82790452e-01 ... 1.57271665e+00\n",
      "  4.36488813e-01 3.75254256e-01]\n",
      " ...\n",
      " [1.03290634e+00 3.93585588e-01 2.84418106e+00 ... 1.85115072e+00\n",
      "  2.31110948e-01 4.39623476e+00]\n",
      " [1.59640698e+00 1.34636571e+00 1.14248308e+00 ... 5.76067202e+00\n",
      "  3.97081461e-01 1.33453325e+00]\n",
      " [1.86531563e-01 1.44000000e+00 1.14055992e+00 ... 2.02074754e+00\n",
      "  2.92140250e-03 1.13637732e+00]]\n"
     ]
    }
   ],
   "source": [
    "print(squared_subtracted_array)"
   ]
  },
  {
   "cell_type": "code",
   "execution_count": 90,
   "id": "7c703b66",
   "metadata": {},
   "outputs": [],
   "source": [
    "distance=[]"
   ]
  },
  {
   "cell_type": "code",
   "execution_count": 91,
   "id": "35031f9d",
   "metadata": {},
   "outputs": [],
   "source": [
    "for i in range(0,len(squared_subtracted_array)):\n",
    "    distance.append(sum(squared_subtracted_array[i]))"
   ]
  },
  {
   "cell_type": "code",
   "execution_count": 92,
   "id": "ce0c9e98",
   "metadata": {},
   "outputs": [],
   "source": [
    "np_array_distance=np.array(distance)"
   ]
  },
  {
   "cell_type": "code",
   "execution_count": 93,
   "id": "5b61dc48",
   "metadata": {},
   "outputs": [],
   "source": [
    "np_array_distance=np.sqrt(np_array_distance)"
   ]
  },
  {
   "cell_type": "code",
   "execution_count": 94,
   "id": "aede0e7d",
   "metadata": {},
   "outputs": [
    {
     "name": "stdout",
     "output_type": "stream",
     "text": [
      "[4.79668306 4.84545728 4.65090001 ... 7.9824841  8.25360947 6.9353318 ]\n"
     ]
    }
   ],
   "source": [
    "print(np_array_distance)"
   ]
  },
  {
   "cell_type": "code",
   "execution_count": 95,
   "id": "00779f1d",
   "metadata": {},
   "outputs": [],
   "source": [
    "sorted_indices = np.argsort(np_array_distance)"
   ]
  },
  {
   "cell_type": "code",
   "execution_count": 96,
   "id": "2c5a2e5d",
   "metadata": {},
   "outputs": [],
   "source": [
    "smallest_values = np_array_distance[sorted_indices[0:3]]\n",
    "smallest_indices = sorted_indices[0:3]"
   ]
  },
  {
   "cell_type": "code",
   "execution_count": 97,
   "id": "eafe33ee",
   "metadata": {},
   "outputs": [
    {
     "name": "stdout",
     "output_type": "stream",
     "text": [
      "[0.         3.1179735  3.47775623]\n",
      "[ 691 1781 2060]\n"
     ]
    }
   ],
   "source": [
    "print(smallest_values)\n",
    "print(smallest_indices)"
   ]
  },
  {
   "cell_type": "code",
   "execution_count": 98,
   "id": "9848656c",
   "metadata": {},
   "outputs": [
    {
     "name": "stdout",
     "output_type": "stream",
     "text": [
      "\n",
      "                               Word         \tDistance\n",
      "\n",
      "                               king\t\t0.000000\n",
      "\n",
      "                             prince\t\t3.117973\n",
      "\n",
      "                              queen\t\t3.477756\n",
      "\n"
     ]
    }
   ],
   "source": [
    "print(\"\\n                               Word         \\tDistance\\n\")\n",
    "\n",
    "for i in smallest_indices:\n",
    "    print(\"%35s\\t\\t%f\\n\" % (ivocab[i],np_array_distance[i]))"
   ]
  },
  {
   "cell_type": "markdown",
   "id": "540efe59",
   "metadata": {},
   "source": [
    "# This is the 2nd part"
   ]
  },
  {
   "cell_type": "code",
   "execution_count": 180,
   "id": "d3b17405",
   "metadata": {},
   "outputs": [
    {
     "name": "stdout",
     "output_type": "stream",
     "text": [
      "Please input the analogy:love-kiss-hate\n"
     ]
    }
   ],
   "source": [
    "analogy_input= input(\"Please input the analogy:\")"
   ]
  },
  {
   "cell_type": "code",
   "execution_count": 181,
   "id": "a4a6971a",
   "metadata": {},
   "outputs": [],
   "source": [
    "new_input= analogy_input.lower().split(\"-\")"
   ]
  },
  {
   "cell_type": "code",
   "execution_count": 182,
   "id": "d89e283c",
   "metadata": {},
   "outputs": [
    {
     "name": "stdout",
     "output_type": "stream",
     "text": [
      "love\n",
      "kiss\n"
     ]
    }
   ],
   "source": [
    "print(new_input[0])\n",
    "print(new_input[1])"
   ]
  },
  {
   "cell_type": "code",
   "execution_count": 183,
   "id": "e2375a8d",
   "metadata": {},
   "outputs": [
    {
     "name": "stdout",
     "output_type": "stream",
     "text": [
      "[-0.13886, 1.1401, -0.85212, -0.29212, 0.75534, 0.82762, -0.3181, 0.0072204, -0.34762, 1.0731, -0.24665, 0.97765, -0.55835, -0.090318, 0.83182, -0.33317, 0.22648, 0.30913, 0.026929, -0.086739, -0.14703, 1.3543, 0.53695, 0.43735, 1.2749, -1.4382, -1.2815, -0.15196, 1.0506, -0.93644, 2.7561, 0.58967, -0.29473, 0.27574, -0.32928, -0.201, -0.28547, -0.45987, -0.14603, -0.69372, 0.070761, -0.19326, -0.1855, -0.16095, 0.24268, 0.20784, 0.030924, -1.3711, -0.28606, 0.2898]\n",
      "[-0.19951, 0.78923, -0.18974, -0.54568, 0.37382, 1.1741, -0.14031, 0.15499, -0.60457, 0.81536, -0.036863, 0.31275, 0.061309, 0.62125, 0.89821, -0.034447, -0.052187, 0.19287, -0.58236, -0.3349, 0.334, 0.97588, 0.5154, 0.25059, 1.019, -0.564, -0.41209, 0.48987, 0.61141, -1.1708, 1.3021, 0.5981, -0.75596, 0.85707, -0.86236, -0.10308, 0.85195, -1.1235, -0.14449, -0.71052, 0.52475, -0.19518, -0.91453, -0.68629, 0.52338, -0.43342, -0.15126, -1.1917, -0.2838, 0.064423]\n"
     ]
    }
   ],
   "source": [
    "# distance of the first two words\n",
    "\n",
    "print(vectors[new_input[0]])\n",
    "print(vectors[new_input[1]])"
   ]
  },
  {
   "cell_type": "code",
   "execution_count": 184,
   "id": "eb235947",
   "metadata": {},
   "outputs": [],
   "source": [
    "np_first_word=np.array(vectors[new_input[0]])"
   ]
  },
  {
   "cell_type": "code",
   "execution_count": 185,
   "id": "b84b8830",
   "metadata": {},
   "outputs": [],
   "source": [
    "np_second_word=np.array(vectors[new_input[1]])"
   ]
  },
  {
   "cell_type": "code",
   "execution_count": 186,
   "id": "a054a17c",
   "metadata": {},
   "outputs": [],
   "source": [
    "new_subtracted_array_for_first_and_word=np_second_word-np_first_word"
   ]
  },
  {
   "cell_type": "code",
   "execution_count": 187,
   "id": "adbbce45",
   "metadata": {},
   "outputs": [
    {
     "data": {
      "text/plain": [
       "array([-0.06065  , -0.35087  ,  0.66238  , -0.25356  , -0.38152  ,\n",
       "        0.34648  ,  0.17779  ,  0.1477696, -0.25695  , -0.25774  ,\n",
       "        0.209787 , -0.6649   ,  0.619659 ,  0.711568 ,  0.06639  ,\n",
       "        0.298723 , -0.278667 , -0.11626  , -0.609289 , -0.248161 ,\n",
       "        0.48103  , -0.37842  , -0.02155  , -0.18676  , -0.2559   ,\n",
       "        0.8742   ,  0.86941  ,  0.64183  , -0.43919  , -0.23436  ,\n",
       "       -1.454    ,  0.00843  , -0.46123  ,  0.58133  , -0.53308  ,\n",
       "        0.09792  ,  1.13742  , -0.66363  ,  0.00154  , -0.0168   ,\n",
       "        0.453989 , -0.00192  , -0.72903  , -0.52534  ,  0.2807   ,\n",
       "       -0.64126  , -0.182184 ,  0.1794   ,  0.00226  , -0.225377 ])"
      ]
     },
     "execution_count": 187,
     "metadata": {},
     "output_type": "execute_result"
    }
   ],
   "source": [
    "new_subtracted_array_for_first_and_word"
   ]
  },
  {
   "cell_type": "code",
   "execution_count": 207,
   "id": "cb395a57",
   "metadata": {},
   "outputs": [
    {
     "data": {
      "text/plain": [
       "'hate'"
      ]
     },
     "execution_count": 207,
     "metadata": {},
     "output_type": "execute_result"
    }
   ],
   "source": [
    "thrid_word=new_input[2]\n",
    "thrid_word"
   ]
  },
  {
   "cell_type": "code",
   "execution_count": 189,
   "id": "8412ae0a",
   "metadata": {},
   "outputs": [
    {
     "data": {
      "text/plain": [
       "[-0.85233,\n",
       " -0.14749,\n",
       " 0.049936,\n",
       " -0.7872,\n",
       " 0.19493,\n",
       " 0.48929,\n",
       " 0.34392,\n",
       " -0.61542,\n",
       " -0.37281,\n",
       " 0.77186,\n",
       " -0.71914,\n",
       " -0.12973,\n",
       " -0.40985,\n",
       " -0.65339,\n",
       " 0.94961,\n",
       " -0.49831,\n",
       " 0.25442,\n",
       " 0.049586,\n",
       " 0.18927,\n",
       " -0.14948,\n",
       " -0.27686,\n",
       " 0.32095,\n",
       " 0.85855,\n",
       " 1.0173,\n",
       " 0.22242,\n",
       " -1.8237,\n",
       " -0.69343,\n",
       " -0.018455,\n",
       " 1.4549,\n",
       " -1.1038,\n",
       " 1.526,\n",
       " 0.69842,\n",
       " -0.5901,\n",
       " -1.0475,\n",
       " -1.2981,\n",
       " -0.47258,\n",
       " -0.3198,\n",
       " -1.3484,\n",
       " -0.19307,\n",
       " 0.18261,\n",
       " 0.043868,\n",
       " -0.17222,\n",
       " 0.16779,\n",
       " 0.66191,\n",
       " 0.71634,\n",
       " 0.16961,\n",
       " -0.34744,\n",
       " -0.15155,\n",
       " -0.051676,\n",
       " 0.29743]"
      ]
     },
     "execution_count": 189,
     "metadata": {},
     "output_type": "execute_result"
    }
   ],
   "source": [
    "vectors[thrid_word]"
   ]
  },
  {
   "cell_type": "code",
   "execution_count": 190,
   "id": "996bb0ec",
   "metadata": {},
   "outputs": [],
   "source": [
    "np_thrid_word=np.array(vectors[thrid_word])"
   ]
  },
  {
   "cell_type": "code",
   "execution_count": 191,
   "id": "0e4caafb",
   "metadata": {},
   "outputs": [],
   "source": [
    "forth_word=np_thrid_word+new_subtracted_array_for_first_and_word"
   ]
  },
  {
   "cell_type": "code",
   "execution_count": 192,
   "id": "ac600d6e",
   "metadata": {},
   "outputs": [
    {
     "data": {
      "text/plain": [
       "array([-0.91298  , -0.49836  ,  0.712316 , -1.04076  , -0.18659  ,\n",
       "        0.83577  ,  0.52171  , -0.4676504, -0.62976  ,  0.51412  ,\n",
       "       -0.509353 , -0.79463  ,  0.209809 ,  0.058178 ,  1.016    ,\n",
       "       -0.199587 , -0.024247 , -0.066674 , -0.420019 , -0.397641 ,\n",
       "        0.20417  , -0.05747  ,  0.837    ,  0.83054  , -0.03348  ,\n",
       "       -0.9495   ,  0.17598  ,  0.623375 ,  1.01571  , -1.33816  ,\n",
       "        0.072    ,  0.70685  , -1.05133  , -0.46617  , -1.83118  ,\n",
       "       -0.37466  ,  0.81762  , -2.01203  , -0.19153  ,  0.16581  ,\n",
       "        0.497857 , -0.17414  , -0.56124  ,  0.13657  ,  0.99704  ,\n",
       "       -0.47165  , -0.529624 ,  0.02785  , -0.049416 ,  0.072053 ])"
      ]
     },
     "execution_count": 192,
     "metadata": {},
     "output_type": "execute_result"
    }
   ],
   "source": [
    "forth_word"
   ]
  },
  {
   "cell_type": "code",
   "execution_count": 193,
   "id": "cee3ec6c",
   "metadata": {},
   "outputs": [
    {
     "name": "stdout",
     "output_type": "stream",
     "text": [
      "[[ 0.418     0.24968  -0.41242  ... -0.18411  -0.11514  -0.78581 ]\n",
      " [ 0.013441  0.23682  -0.16899  ... -0.56657   0.044691  0.30392 ]\n",
      " [ 0.15164   0.30177  -0.16763  ... -0.35652   0.016413  0.10216 ]\n",
      " ...\n",
      " [-0.51181   0.058706  1.0913   ... -0.25003  -1.125     1.5863  ]\n",
      " [-0.75898  -0.47426   0.4737   ...  0.78954  -0.014116  0.6448  ]\n",
      " [ 0.072617 -0.51393   0.4728   ... -0.18907  -0.59021   0.55559 ]]\n"
     ]
    }
   ],
   "source": [
    "print(W)"
   ]
  },
  {
   "cell_type": "code",
   "execution_count": 194,
   "id": "82dc947e",
   "metadata": {},
   "outputs": [],
   "source": [
    "subtractable_forth_word=np.tile(forth_word,(400000,1))"
   ]
  },
  {
   "cell_type": "code",
   "execution_count": 195,
   "id": "f81e390c",
   "metadata": {},
   "outputs": [
    {
     "data": {
      "text/plain": [
       "400000"
      ]
     },
     "execution_count": 195,
     "metadata": {},
     "output_type": "execute_result"
    }
   ],
   "source": [
    "len(subtractable_forth_word)"
   ]
  },
  {
   "cell_type": "code",
   "execution_count": 196,
   "id": "93846d95",
   "metadata": {},
   "outputs": [],
   "source": [
    "subtractted_froth_word=W-subtractable_forth_word"
   ]
  },
  {
   "cell_type": "code",
   "execution_count": 197,
   "id": "e663bb2e",
   "metadata": {},
   "outputs": [],
   "source": [
    "squer_subtractted_froth_word=np.square(subtractted_froth_word)"
   ]
  },
  {
   "cell_type": "code",
   "execution_count": 198,
   "id": "18e0bd1c",
   "metadata": {},
   "outputs": [],
   "source": [
    "forth_word_distance=[]"
   ]
  },
  {
   "cell_type": "code",
   "execution_count": 199,
   "id": "631e11cb",
   "metadata": {},
   "outputs": [],
   "source": [
    "for i in range(0,len(squer_subtractted_froth_word)):\n",
    "    forth_word_distance.append(sum(squer_subtractted_froth_word[i]))"
   ]
  },
  {
   "cell_type": "code",
   "execution_count": 200,
   "id": "47dcdfef",
   "metadata": {},
   "outputs": [],
   "source": [
    "np_arraya_distince_for_froth_word=np.array(forth_word_distance)"
   ]
  },
  {
   "cell_type": "code",
   "execution_count": 201,
   "id": "671d91e0",
   "metadata": {},
   "outputs": [],
   "source": [
    "np_arraya_distince_for_froth_word=np.sqrt(np_arraya_distince_for_froth_word)"
   ]
  },
  {
   "cell_type": "code",
   "execution_count": 202,
   "id": "b92c0084",
   "metadata": {},
   "outputs": [],
   "source": [
    "forth_word_sorted_indices = np.argsort(np_arraya_distince_for_froth_word)"
   ]
  },
  {
   "cell_type": "code",
   "execution_count": 203,
   "id": "f331b5e5",
   "metadata": {},
   "outputs": [],
   "source": [
    "forth_word_smallest_values = np_arraya_distince_for_froth_word[forth_word_sorted_indices[:5]]\n",
    "forth_word_smallest_indices = forth_word_sorted_indices[:5]"
   ]
  },
  {
   "cell_type": "code",
   "execution_count": 204,
   "id": "f5a405d1",
   "metadata": {},
   "outputs": [
    {
     "name": "stdout",
     "output_type": "stream",
     "text": [
      "[3.47036747 3.8796129  3.91771414 3.95649277 4.09967662]\n",
      "[ 5281 15888 73161 31554 15281]\n"
     ]
    }
   ],
   "source": [
    "print(forth_word_smallest_values)\n",
    "print(forth_word_smallest_indices)"
   ]
  },
  {
   "cell_type": "code",
   "execution_count": 205,
   "id": "77631785",
   "metadata": {},
   "outputs": [
    {
     "name": "stdout",
     "output_type": "stream",
     "text": [
      "hate\n",
      "shout\n",
      "incites\n",
      "incited\n",
      "denounce\n"
     ]
    }
   ],
   "source": [
    "for i in forth_word_smallest_indices:\n",
    "    print(ivocab[i])\n",
    "     "
   ]
  },
  {
   "cell_type": "code",
   "execution_count": 206,
   "id": "8ea44c80",
   "metadata": {},
   "outputs": [
    {
     "name": "stdout",
     "output_type": "stream",
     "text": [
      "shout\n",
      "incites\n"
     ]
    }
   ],
   "source": [
    "count=0 \n",
    "for i in forth_word_smallest_indices:\n",
    "    if ivocab[i] != new_input[0] and ivocab[i] != new_input[1] and ivocab[i] != new_input[2]:\n",
    "        print(ivocab[i])\n",
    "        count=count+1\n",
    "        \n",
    "    if count==2:\n",
    "        break\n",
    "        "
   ]
  }
 ],
 "metadata": {
  "kernelspec": {
   "display_name": "Python 3 (ipykernel)",
   "language": "python",
   "name": "python3"
  },
  "language_info": {
   "codemirror_mode": {
    "name": "ipython",
    "version": 3
   },
   "file_extension": ".py",
   "mimetype": "text/x-python",
   "name": "python",
   "nbconvert_exporter": "python",
   "pygments_lexer": "ipython3",
   "version": "3.11.4"
  }
 },
 "nbformat": 4,
 "nbformat_minor": 5
}
